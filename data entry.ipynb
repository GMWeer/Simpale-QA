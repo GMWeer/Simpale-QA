{
 "cells": [
  {
   "cell_type": "code",
   "execution_count": null,
   "metadata": {},
   "outputs": [],
   "source": [
    "import PySimpleGUI as sg\n",
    "import pandas as pd\n",
    "\n",
    "# Add some color to the window\n",
    "sg.theme('DarkTeal9')\n",
    "\n",
    "EXCEL_FILE = 'Data_Entry.xlsx'\n",
    "df = pd.read_excel(EXCEL_FILE)\n",
    "\n",
    "layout = [\n",
    "    [sg.Text('Please fill out the following fields:')],\n",
    "    [sg.Text('Name', size=(15,1)), sg.InputText(key='Name')],\n",
    "    [sg.Text('City', size=(15,1)), sg.InputText(key='City')],\n",
    "    [sg.Text('Favorite Colour', size=(15,1)), sg.Combo(['Green', 'Blue', 'Red'], key='Favorite Colour')],\n",
    "    [sg.Text('I speak', size=(15,1)),\n",
    "                            sg.Checkbox('German', key='German'),\n",
    "                            sg.Checkbox('Spanish', key='Spanish'),\n",
    "                            sg.Checkbox('English', key='English')],\n",
    "    [sg.Text('No. of Children', size=(15,1)), sg.Spin([i for i in range(0,16)],\n",
    "                                                       initial_value=0, key='Children')],\n",
    "    [sg.Submit(), sg.Button('Clear'), sg.Exit()]\n",
    "]\n",
    "\n",
    "window = sg.Window('Simple data entry form', layout)\n",
    "\n",
    "def clear_input():\n",
    "    for key in values:\n",
    "        window[key]('')\n",
    "    return None\n",
    "\n",
    "\n",
    "while True:\n",
    "    event, values = window.read()\n",
    "    if event == sg.WIN_CLOSED or event == 'Exit':\n",
    "        break\n",
    "    if event == 'Clear':\n",
    "        clear_input()\n",
    "    if event == 'Submit':\n",
    "        new_record = pd.DataFrame(values, index=[0])\n",
    "        df = pd.concat([df, new_record], ignore_index=True)\n",
    "        df.to_excel(EXCEL_FILE, index=False)\n",
    "        sg.popup('Data saved!')\n",
    "        clear_input"
   ]
  }
 ],
 "metadata": {
  "kernelspec": {
   "display_name": "Python 3",
   "language": "python",
   "name": "python3"
  },
  "language_info": {
   "codemirror_mode": {
    "name": "ipython",
    "version": 3
   },
   "file_extension": ".py",
   "mimetype": "text/x-python",
   "name": "python",
   "nbconvert_exporter": "python",
   "pygments_lexer": "ipython3",
   "version": "3.8.5"
  }
 },
 "nbformat": 4,
 "nbformat_minor": 4
}
